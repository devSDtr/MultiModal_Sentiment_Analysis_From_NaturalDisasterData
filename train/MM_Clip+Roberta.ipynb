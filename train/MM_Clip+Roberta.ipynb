{
  "nbformat": 4,
  "nbformat_minor": 0,
  "metadata": {
    "colab": {
      "provenance": []
    },
    "kernelspec": {
      "name": "python3",
      "display_name": "Python 3"
    },
    "language_info": {
      "name": "python"
    }
  },
  "cells": [
    {
      "cell_type": "code",
      "execution_count": null,
      "metadata": {
        "id": "yvw6sZYUBWNz"
      },
      "outputs": [],
      "source": [
        "!pip install ekphrasis\n",
        "!pip install transformers"
      ]
    },
    {
      "cell_type": "code",
      "source": [
        "from torch.utils.data import DataLoader, Dataset, SequentialSampler\n",
        "import torch\n",
        "from torchvision import transforms\n",
        "\n",
        "import os, re\n",
        "import numpy as np\n",
        "import pandas as pd\n",
        "from PIL import Image\n",
        "from PIL import ImageFile\n",
        "ImageFile.LOAD_TRUNCATED_IMAGES = True\n",
        "\n",
        "from ekphrasis.classes.preprocessor import TextPreProcessor\n",
        "from ekphrasis.classes.tokenizer import SocialTokenizer\n",
        "from ekphrasis.dicts.emoticons import emoticons\n",
        "\n",
        "\n",
        "class MMDataset(Dataset):\n",
        "    def __init__(self, dloc, img_transform=None, txt_transform=None, txt_processor=None):\n",
        "        self.file_names = pd.read_csv(os.path.join(dloc,'valid_pairlist.txt'), header=None)\n",
        "        self.dloc = dloc\n",
        "        self.img_transform = img_transform\n",
        "        self.txt_transform = txt_transform\n",
        "        self.txt_processor = txt_processor\n",
        "\n",
        "    def __len__(self):\n",
        "        return len(self.file_names)\n",
        "\n",
        "    def __getitem__(self, idx):\n",
        "        fname = str(self.file_names.iloc[idx,0])\n",
        "\n",
        "        img = Image.open(os.path.join(self.dloc, 'images', fname+'.jpg')).convert('RGB')\n",
        "        text = open(os.path.join(self.dloc, 'texts', fname+'.txt'), 'r', encoding='utf-8', errors='ignore').read().strip().lower()\n",
        "\n",
        "        if self.img_transform:\n",
        "            img = self.img_transform(img)\n",
        "        else:\n",
        "            img = transforms.ToTensor()(img)\n",
        "\n",
        "        if self.txt_transform:\n",
        "            text = self.txt_transform(text, self.txt_processor)\n",
        "\n",
        "        return img, text\n",
        "\n",
        "\n",
        "def get_text_processor(word_stats='twitter', htag=True):\n",
        "    return TextPreProcessor(\n",
        "            # terms that will be normalized , 'number','money', 'time','date', 'percent' removed from below list\n",
        "            normalize=['url', 'email', 'phone', 'user'],\n",
        "            # terms that will be annotated\n",
        "            annotate={\"hashtag\",\"allcaps\", \"elongated\", \"repeated\",\n",
        "                      'emphasis', 'censored'},\n",
        "            fix_html=True,  # fix HTML tokens\n",
        "\n",
        "            # corpus from which the word statistics are going to be used\n",
        "            # for word segmentation\n",
        "            segmenter=word_stats,\n",
        "\n",
        "            # corpus from which the word statistics are going to be used\n",
        "            # for spell correction\n",
        "            corrector=word_stats,\n",
        "\n",
        "            unpack_hashtags=htag,  # perform word segmentation on hashtags\n",
        "            unpack_contractions=True,  # Unpack contractions (can't -> can not)\n",
        "            spell_correct_elong=True,  # spell correction for elongated words\n",
        "\n",
        "            # select a tokenizer. You can use SocialTokenizer, or pass your own\n",
        "            # the tokenizer, should take as input a string and return a list of tokens\n",
        "            tokenizer=SocialTokenizer(lowercase=True).tokenize,\n",
        "\n",
        "            # list of dictionaries, for replacing tokens extracted from the text,\n",
        "            # with other expressions. You can pass more than one dictionaries.\n",
        "            dicts=[emoticons]\n",
        "        )\n",
        "\n",
        "\n",
        "\n",
        "def process_tweet(tweet, text_processor):\n",
        "\n",
        "    proc_tweet = text_processor.pre_process_doc(tweet)\n",
        "\n",
        "    clean_tweet = [word.strip() for word in proc_tweet if not re.search(r\"[^a-z0-9.,\\s]+\", word)]\n",
        "\n",
        "    clean_tweet = [word for word in clean_tweet if word not in ['rt', 'http', 'https', 'htt']]\n",
        "\n",
        "    return \" \".join(clean_tweet)\n",
        "\n",
        "\n",
        "\n",
        "\n",
        "def get_bert_embeddings(tweet, model, tokenizer, device):\n",
        "    # Split the sentence into tokens.\n",
        "    input_ids = torch.tensor([tokenizer.encode(tweet, add_special_tokens=True)]).to(device)\n",
        "\n",
        "    # Predict hidden states features for each layer\n",
        "    with torch.no_grad():\n",
        "        try:\n",
        "            last_out, pooled_out, encoded_layers = model(input_ids, return_dict=False)\n",
        "        except:\n",
        "            last_out, encoded_layers = model(input_ids, return_dict=False)\n",
        "\n",
        "\n",
        "    # Calculate the average of all 22 token vectors.\n",
        "    sent_emb_last = torch.mean(last_out[0], dim=0).cpu().numpy()\n",
        "\n",
        "    # Concatenate the tensors for all layers. We use `stack` here to\n",
        "    # create a new dimension in the tensor.\n",
        "    token_embeddings = torch.stack(encoded_layers, dim=0)\n",
        "\n",
        "    # Remove dimension 1, the \"batches\".\n",
        "    token_embeddings = torch.squeeze(token_embeddings, dim=1)\n",
        "\n",
        "    # Swap dimensions 0 and 1.\n",
        "    token_embeddings = token_embeddings.permute(1,0,2)\n",
        "\n",
        "    # Stores the token vectors, with shape [22 x 3,072]\n",
        "    token_vecs_cat = []\n",
        "\n",
        "    # `token_embeddings` is a [22 x 12 x 768] tensor.\n",
        "    # For each token in the sentence...\n",
        "    for token in token_embeddings:\n",
        "\n",
        "        # `token` is a [12 x 768] tensor\n",
        "\n",
        "        # Concatenate the vectors (that is, append them together) from the last\n",
        "        # four layers.\n",
        "        # Each layer vector is 768 values, so `cat_vec` is length 3,072.\n",
        "        cat_vec = torch.cat((token[-1], token[-2], token[-3], token[-4]), dim=0)\n",
        "\n",
        "        # Use `cat_vec` to represent `token`.\n",
        "        token_vecs_cat.append(cat_vec.cpu().numpy())\n",
        "\n",
        "    sent_word_catavg = np.mean(token_vecs_cat, axis=0)\n",
        "\n",
        "    # Stores the token vectors, with shape [22 x 768]\n",
        "    token_vecs_sum = []\n",
        "\n",
        "    # `token_embeddings` is a [22 x 12 x 768] tensor.\n",
        "\n",
        "    # For each token in the sentence...\n",
        "    for token in token_embeddings:\n",
        "\n",
        "        # `token` is a [12 x 768] tensor\n",
        "\n",
        "        # Sum the vectors from the last four layers.\n",
        "        sum_vec = torch.sum(token[-4:], dim=0)\n",
        "\n",
        "        # Use `sum_vec` to represent `token`.\n",
        "        token_vecs_sum.append(sum_vec.cpu().numpy())\n",
        "\n",
        "    sent_word_sumavg = np.mean(token_vecs_sum, axis=0)\n",
        "\n",
        "    # `token_vecs` is a tensor with shape [22 x 768]\n",
        "    token_vecs = encoded_layers[-2][0]\n",
        "\n",
        "    # Calculate the average of all 22 token vectors.\n",
        "    sent_emb_2_last = torch.mean(token_vecs, dim=0).cpu().numpy()\n",
        "\n",
        "    return sent_word_catavg, sent_word_sumavg, sent_emb_2_last, sent_emb_last"
      ],
      "metadata": {
        "id": "SoKItbpABpBI"
      },
      "execution_count": null,
      "outputs": []
    },
    {
      "cell_type": "code",
      "source": [
        "import argparse\n",
        "import json\n",
        "import string\n",
        "\n",
        "from transformers import BertTokenizer, BertModel, RobertaModel, RobertaTokenizer\n",
        "\n",
        "import argparse\n",
        "parser = argparse.ArgumentParser(description='Train Multimodal MLP Models for Sentiment')\n",
        "parser.add_argument('--vtype', type=str, default='clip',\n",
        "                    help='imagenet | places | emotion | clip')\n",
        "parser.add_argument('--btype', type=str, default='robertabase',\n",
        "                    help='bertbase | robertabase')\n",
        "parser.add_argument('--ttype', type=str, default='clip',\n",
        "                    help='bertbase | robertabase | clip')\n",
        "parser.add_argument('--mvsa', type=str, default='single',\n",
        "                    help='single | multiple')\n",
        "parser.add_argument('--ht', type=bool, default=True,\n",
        "                    help='True | False')\n",
        "parser.add_argument('--bs', type=int, default=32,\n",
        "                    help='32, 64, 128')\n",
        "parser.add_argument('--epochs', type=int, default=100,\n",
        "                    help='50, 75, 100')\n",
        "parser.add_argument('--lr', type=str, default='2e-5',\n",
        "                    help='1e-4, 5e-5, 2e-5')\n",
        "parser.add_argument('--ftype', type=str, default='feats',\n",
        "                    help='feats | logits')\n",
        "parser.add_argument('--layer', type=str, default='sumavg',\n",
        "                    help='sumavg, 2last, last')\n",
        "parser.add_argument('--norm', type=int, default=1,\n",
        "                    help='0 | 1')\n",
        "parser.add_argument('--split', type=int, default=1,\n",
        "                    help='1-10')\n",
        "parser.add_argument('--smooth', type=bool, default=False,\n",
        "                    help='False | True')\n",
        "parser.add_argument('-f')\n",
        "\n",
        "args = parser.parse_args()\n",
        "\n",
        "mvsa = args.mvsa\n",
        "batch_size = args.bs\n",
        "normalize = args.norm\n",
        "init_lr = float(args.lr)\n",
        "epochs = args.epochs\n",
        "ftype = args.ftype\n",
        "btype = args.btype\n",
        "vtype = args.vtype\n",
        "ttype = args.ttype\n",
        "layer = args.layer\n",
        "split = args.split\n",
        "smooth = args.smooth\n",
        "htag = args.ht"
      ],
      "metadata": {
        "id": "4EciGZy9BuQd"
      },
      "execution_count": null,
      "outputs": []
    },
    {
      "cell_type": "code",
      "source": [
        "device = torch.device('cuda' if torch.cuda.is_available() else \"cpu\")\n",
        "\n",
        "\n",
        "txt_processor = get_text_processor(htag=args.ht)\n",
        "txt_transform = process_tweet"
      ],
      "metadata": {
        "colab": {
          "base_uri": "https://localhost:8080/"
        },
        "id": "mQgHTvnABxyV",
        "outputId": "0772ec98-6fb8-41c1-952d-ca09d4ebd11c"
      },
      "execution_count": null,
      "outputs": [
        {
          "output_type": "stream",
          "name": "stdout",
          "text": [
            "Reading twitter - 1grams ...\n",
            "Reading twitter - 2grams ...\n",
            "Reading twitter - 1grams ...\n"
          ]
        }
      ]
    },
    {
      "cell_type": "code",
      "source": [
        "dloc='/content/drive/MyDrive/mvsa_single'\n",
        "bert_type = {'bertbase': (BertModel,    BertTokenizer, 'bert-base-uncased'),\n",
        "            'robertabase': (RobertaModel,    RobertaTokenizer, 'roberta-base')}[args.btype]\n",
        "\n",
        "tokenizer = bert_type[1].from_pretrained(bert_type[2])\n",
        "model = bert_type[0].from_pretrained(bert_type[2], output_hidden_states=True)\n",
        "model.to(device).eval()\n",
        "\n",
        "\n",
        "embed_dict = {'catavg':[], 'sumavg': [], '2last': [], 'last': []}"
      ],
      "metadata": {
        "id": "49FD--_-BzcK"
      },
      "execution_count": null,
      "outputs": []
    },
    {
      "cell_type": "code",
      "source": [
        "ph_data = MMDataset(dloc, txt_transform=txt_transform, txt_processor=txt_processor)\n",
        "ph_loader = DataLoader(ph_data, batch_size=1, sampler=SequentialSampler(ph_data))"
      ],
      "metadata": {
        "id": "Bt8Ca1ZyDl3T"
      },
      "execution_count": null,
      "outputs": []
    },
    {
      "cell_type": "code",
      "source": [
        "for i, batch in enumerate(ph_loader):\n",
        "    print(i)\n",
        "    txt_inps = batch[1]\n",
        "\n",
        "    sent_word_catavg, sent_word_sumavg, sent_emb_2_last, sent_emb_last \\\n",
        "        = get_bert_embeddings(txt_inps, model, tokenizer, device)\n",
        "\n",
        "    # embed_dict['catavg'].append(sent_word_catavg.tolist())\n",
        "    embed_dict['sumavg'].append(sent_word_sumavg.tolist())\n",
        "    embed_dict['2last'].append(sent_emb_2_last.tolist())\n",
        "    embed_dict['last'].append(sent_emb_last.tolist())\n",
        "\n",
        "json.dump(embed_dict, open('roberta1.json', 'w'))"
      ],
      "metadata": {
        "id": "IHSDaNr9DtAO"
      },
      "execution_count": null,
      "outputs": []
    },
    {
      "cell_type": "code",
      "source": [
        "!pip install openai-clip"
      ],
      "metadata": {
        "id": "CY_ZcR3NDuk-"
      },
      "execution_count": null,
      "outputs": []
    },
    {
      "cell_type": "code",
      "source": [
        "from torchvision import models\n",
        "import torch\n",
        "\n",
        "import pickle\n",
        "import numpy as np\n",
        "import json\n",
        "\n",
        "import clip\n",
        "\n",
        "img_transforms = transforms.Compose([\n",
        "    transforms.Resize(256),\n",
        "    transforms.CenterCrop(224),\n",
        "    transforms.ToTensor(),\n",
        "    transforms.Normalize(mean=[0.485, 0.456, 0.406],\n",
        "                                 std=[0.229, 0.224, 0.225])\n",
        "])\n",
        "\n",
        "txt_processor = get_text_processor(htag=args.ht)\n",
        "txt_transform = process_tweet"
      ],
      "metadata": {
        "id": "8TYIWpflVqr_"
      },
      "execution_count": null,
      "outputs": []
    },
    {
      "cell_type": "code",
      "source": [
        "def get_clip_feats():\n",
        "    img_feats, txt_feats = [], []\n",
        "\n",
        "\n",
        "    model, img_preprocess = clip.load('ViT-B/32', device=device)\n",
        "    model.eval()\n",
        "\n",
        "    dataset = MMDataset(dloc, img_transform=img_preprocess, txt_transform=txt_transform, txt_processor=txt_processor)\n",
        "    dt_loader = DataLoader(dataset, batch_size=128, sampler=SequentialSampler(dataset))\n",
        "\n",
        "    for i, batch in enumerate(dt_loader):\n",
        "        print(i)\n",
        "        img_inps, txt_inps = batch[0].to(device), batch[1]\n",
        "\n",
        "        txt_inps = clip.tokenize(txt_inps).to(device)\n",
        "\n",
        "        with torch.no_grad():\n",
        "            image_features = model.encode_image(img_inps)\n",
        "            text_features = model.encode_text(txt_inps)\n",
        "\n",
        "            img_feats.extend(image_features.cpu().numpy().tolist())\n",
        "            txt_feats.extend(text_features.cpu().numpy().tolist())\n",
        "\n",
        "    return img_feats, txt_feats"
      ],
      "metadata": {
        "id": "0H30LM62WPUl"
      },
      "execution_count": null,
      "outputs": []
    },
    {
      "cell_type": "code",
      "source": [
        "img_feats, text_feats = get_clip_feats()\n",
        "print(np.array(img_feats).shape, np.array(text_feats).shape)\n",
        "json.dump({'img_feats': img_feats, 'text_feats': text_feats}, open('clip.json', 'w'))"
      ],
      "metadata": {
        "id": "XIucuIiwWQ3W"
      },
      "execution_count": null,
      "outputs": []
    },
    {
      "cell_type": "code",
      "source": [
        "from torch.utils.data import DataLoader, Dataset, SequentialSampler\n",
        "from torch import nn\n",
        "from torch.nn import functional as F\n",
        "import torch\n",
        "\n",
        "import numpy as np\n",
        "import json\n",
        "from sklearn import metrics, preprocessing\n",
        "\n",
        "class MultiDataset2(Dataset):\n",
        "    def __init__(self, vfeats, tfeats, labels, normalize=1):\n",
        "        self.vfeats = vfeats\n",
        "        self.tfeats = tfeats\n",
        "        self.labels = np.array(labels).astype(np.int)\n",
        "        self.normalize = normalize\n",
        "\n",
        "    def __len__(self):\n",
        "        return len(self.labels)\n",
        "\n",
        "    def __getitem__(self, idx):\n",
        "        vfeat = self.vfeats[idx]\n",
        "        tfeat = self.tfeats[idx]\n",
        "        label = self.labels[idx]\n",
        "\n",
        "        if self.normalize:\n",
        "            vfeat = preprocessing.normalize(vfeat.reshape(1,-1), axis=1).flatten()\n",
        "            tfeat = preprocessing.normalize(tfeat.reshape(1,-1), axis=1).flatten()\n",
        "\n",
        "        return torch.FloatTensor(vfeat), torch.FloatTensor(tfeat), torch.tensor(label)\n",
        "\n",
        "\n",
        "class MultiMLP_2Mod(nn.Module):\n",
        "    def __init__(self, vdim, tdim):\n",
        "        super(MultiMLP_2Mod, self).__init__()\n",
        "\n",
        "        self.vfc1 = nn.Linear(vdim, 128)#self.vfc1 = nn.Linear(vdim, 128)\n",
        "        self.tfc1 = nn.Linear(tdim, 128)\n",
        "        self.vbn1 = nn.BatchNorm1d(128)\n",
        "        self.tbn1 = nn.BatchNorm1d(128)\n",
        "        self.cf = nn.Linear(256, 3)\n",
        "\n",
        "        self.vdp1 = nn.Dropout(0.5)\n",
        "        self.tdp1 = nn.Dropout(0.5)\n",
        "        self.relu = nn.ReLU()\n",
        "\n",
        "        self.cf1=nn.Linear(128,3)\n",
        "\n",
        "    def forward(self, x1, x2):\n",
        "        x1 = self.vdp1(self.relu(self.vbn1(self.vfc1(x1))))\n",
        "        x2 = self.tdp1(self.relu(self.tbn1(self.tfc1(x2))))\n",
        "\n",
        "        x = torch.cat((x1,x2), axis=1)\n",
        "\n",
        "        return self.cf(x),self.cf1(x1),self.cf1(x2)\n",
        "\n",
        "\n",
        "\n",
        "def get_visual_feats(mvsa, vtype, ftype, htag):\n",
        "    if vtype == 'places':\n",
        "        feats_img = json.load(open('features/places_%s.json'%(mvsa), 'r'))[ftype]\n",
        "        vdim = 2048 if ftype == 'feats' else 365\n",
        "    elif vtype == 'emotion':\n",
        "        feats_img = json.load(open('features/emotion_%s.json'%(mvsa), 'r'))[ftype]\n",
        "        vdim = 2048 if ftype == 'feats' else 8\n",
        "    elif vtype == 'imagenet':\n",
        "        feats_img  = json.load(open('features/imagenet_%s.json'%(mvsa), 'r'))[ftype]\n",
        "        vdim = 2048 if ftype == 'feats' else 1000\n",
        "    elif vtype == 'clip':\n",
        "        feats_img  = json.load(open('clip.json', 'r'))['img_feats']\n",
        "        vdim = 512\n",
        "    else:\n",
        "        feats_img = json.load(open('features/faces_%s.json'%(mvsa),'r'))[ftype]\n",
        "        vdim = 512 if ftype == 'feats' else 7\n",
        "\n",
        "    return np.array(feats_img), vdim\n",
        "\n",
        "\n",
        "def cal_loss(pred, gold, smoothing=False):\n",
        "    ''' Calculate cross entropy loss, apply label smoothing if needed. '''\n",
        "\n",
        "    gold = gold.contiguous().view(-1)\n",
        "\n",
        "    if smoothing:\n",
        "        eps = 0.1\n",
        "        n_class = pred.size(1)\n",
        "        one_hot = torch.zeros_like(pred).scatter(1, gold.view(-1, 1), 1)\n",
        "        one_hot = one_hot * (1 - eps) + (1 - one_hot) * eps / (n_class - 1)\n",
        "        log_prb = F.log_softmax(pred, dim=1)\n",
        "\n",
        "        loss = -(one_hot * log_prb).sum(dim=1)\n",
        "        loss = loss.mean()  # average later\n",
        "    else:\n",
        "        loss = F.cross_entropy(pred, gold, reduction='mean')\n",
        "\n",
        "    return loss"
      ],
      "metadata": {
        "id": "eBdAzvr8WSdS"
      },
      "execution_count": null,
      "outputs": []
    },
    {
      "cell_type": "code",
      "source": [
        "import torch.optim as optim\n",
        "\n",
        "import random, copy\n",
        "import pandas as pd\n",
        "import time\n",
        "seed = 42\n",
        "\n",
        "random.seed(seed)\n",
        "np.random.seed(seed)\n",
        "torch.manual_seed(seed)\n",
        "torch.cuda.manual_seed_all(seed)\n",
        "\n",
        "def train(model, optimizer, lr_scheduler, num_epochs):\n",
        "\n",
        "    since = time.time()\n",
        "\n",
        "    best_model = model\n",
        "    best_acc = 0.0\n",
        "    best_val_loss = 100\n",
        "    best_epoch = 0\n",
        "\n",
        "    for epoch in range(1, num_epochs+1):\n",
        "        print('Epoch {}/{}'.format(epoch, num_epochs))\n",
        "        print('-' * 10)\n",
        "\n",
        "        since2 = time.time()\n",
        "\n",
        "        model.train()  # Set model to training mode\n",
        "\n",
        "        running_loss = 0.0\n",
        "        running_corrects = 0\n",
        "\n",
        "        tot = 0.0\n",
        "        cnt = 0\n",
        "        # Iterate over data.\n",
        "        for inputs1, inputs2, labels in tr_loader:\n",
        "\n",
        "            inputs1, inputs2, labels = inputs1.to(device), inputs2.to(device), labels.to(device)\n",
        "\n",
        "            # zero the parameter gradients\n",
        "            optimizer.zero_grad()\n",
        "            # forward\n",
        "            outputs,outputs1,outputs2 = model(inputs1, inputs2)\n",
        "            _, preds = torch.max(outputs, 1)\n",
        "\n",
        "            # loss = criterion(outputs, labels)\n",
        "            loss = cal_loss(outputs, labels, smoothing=smooth)\n",
        "\n",
        "            # backward + optimize\n",
        "            loss.backward()\n",
        "            optimizer.step()\n",
        "\n",
        "            # statistics\n",
        "            running_loss += loss.item()\n",
        "            running_corrects += torch.sum(preds == labels.data).item()\n",
        "            tot += len(labels)\n",
        "\n",
        "            if cnt % 50 == 0:\n",
        "                print('[%d, %5d] loss: %.5f, Acc: %.2f' %\n",
        "                      (epoch, cnt + 1, loss.item(), (100.0 * running_corrects) / tot))\n",
        "\n",
        "            cnt = cnt + 1\n",
        "\n",
        "        train_loss = running_loss / len(tr_loader)\n",
        "        train_acc = running_corrects * 1.0 / (len(tr_loader.dataset))\n",
        "\n",
        "        print('Training Loss: {:.6f} Acc: {:.2f}'.format(train_loss, 100.0 * train_acc))\n",
        "\n",
        "        test_loss, test_acc, test_f1,  _ = evaluate(model, vl_loader)\n",
        "\n",
        "        print('Epoch: {:d}, Val Loss: {:.4f}, Val Acc: {:.4f}, Val F1: {:.4f}'.format(epoch, test_loss,test_acc, test_f1))\n",
        "\n",
        "        if lr_scheduler:\n",
        "        \tlr_scheduler.step(test_loss)\n",
        "\n",
        "        # deep copy the model\n",
        "        if test_loss <= best_val_loss:\n",
        "            best_acc = test_acc\n",
        "            best_val_loss = test_loss\n",
        "            best_model = copy.deepcopy(model)\n",
        "            best_epoch = epoch\n",
        "\n",
        "    time_elapsed2 = time.time() - since2\n",
        "    print('Epoch complete in {:.0f}m {:.0f}s'.format(\n",
        "        time_elapsed2 // 60, time_elapsed2 % 60))\n",
        "\n",
        "    time_elapsed = time.time() - since\n",
        "    print('Training complete in {:.0f}m {:.0f}s'.format(\n",
        "        time_elapsed // 60, time_elapsed % 60))\n",
        "\n",
        "    return best_model, best_epoch\n",
        "\n",
        "\n",
        "def evaluate(model, loader):\n",
        "    model.eval()\n",
        "    test_loss = 0\n",
        "    all_preds = []\n",
        "    all_labels = []\n",
        "\n",
        "    with torch.no_grad():\n",
        "        for inputs1, inputs2, labels in loader:\n",
        "\n",
        "            inputs1, inputs2, labels = inputs1.to(device), inputs2.to(device), labels.to(device)\n",
        "\n",
        "            outputs,outputs1,outputs2 = model(inputs1, inputs2)\n",
        "\n",
        "            preds = torch.argmax(outputs.data, 1)\n",
        "\n",
        "            # test_loss += criterion(outputs, labels).item()\n",
        "            test_loss += cal_loss(outputs, labels, smoothing=smooth).item()\n",
        "\n",
        "            all_preds.extend(preds.cpu().numpy().flatten())\n",
        "            all_labels.extend(labels.cpu().numpy().flatten())\n",
        "\n",
        "        acc = metrics.accuracy_score(all_labels, all_preds)\n",
        "        f1 = metrics.f1_score(all_labels, all_preds, average='weighted')\n",
        "\n",
        "    return test_loss/len(loader), acc, f1, all_preds"
      ],
      "metadata": {
        "id": "dkz0KUfbWViH"
      },
      "execution_count": null,
      "outputs": []
    },
    {
      "cell_type": "code",
      "source": [
        "pair_df = pd.read_csv(dloc+'/valid_pairlist.txt', header=None)\n",
        "all_labels = pair_df[1].to_numpy().flatten()"
      ],
      "metadata": {
        "id": "er1LVt26Wajq"
      },
      "execution_count": null,
      "outputs": []
    },
    {
      "cell_type": "code",
      "source": [
        "lst = list(range(1,1000))\n",
        "import random\n",
        "random.shuffle(lst)\n",
        "np.array(lst, dtype=np.int64)"
      ],
      "metadata": {
        "id": "gzNOuZKrX7Pk"
      },
      "execution_count": null,
      "outputs": []
    },
    {
      "cell_type": "code",
      "source": [
        "tr_ids=lst[0:900]\n",
        "vl_ids=lst[901:950]\n",
        "te_ids=lst[951:1000]"
      ],
      "metadata": {
        "id": "BSg-EyLXYCAs"
      },
      "execution_count": null,
      "outputs": []
    },
    {
      "cell_type": "code",
      "source": [
        "lab_train = all_labels[tr_ids]\n",
        "lab_val = all_labels[vl_ids]\n",
        "lab_test = all_labels[te_ids]"
      ],
      "metadata": {
        "id": "Mcl48f_lYEcb"
      },
      "execution_count": null,
      "outputs": []
    },
    {
      "cell_type": "code",
      "source": [
        "feats_text = json.load(open('/content/roberta1.json','r'))"
      ],
      "metadata": {
        "id": "xd07mcE1YF-8"
      },
      "execution_count": null,
      "outputs": []
    },
    {
      "cell_type": "code",
      "source": [
        "feats_text = feats_text[layer]\n",
        "tdim = 3072 if 'catavg' in layer else 768"
      ],
      "metadata": {
        "id": "LZ0Os1IYYHRh"
      },
      "execution_count": null,
      "outputs": []
    },
    {
      "cell_type": "code",
      "source": [
        "feats_text = np.array(feats_text)\n",
        "\n",
        "ft_tr_txt = feats_text[tr_ids]\n",
        "ft_vl_txt = feats_text[vl_ids]\n",
        "ft_te_txt = feats_text[te_ids]"
      ],
      "metadata": {
        "id": "Bhgt0ZW1YQFp"
      },
      "execution_count": null,
      "outputs": []
    },
    {
      "cell_type": "code",
      "source": [
        "feats_img, vdim = get_visual_feats(mvsa, vtype, ftype, htag)"
      ],
      "metadata": {
        "id": "BEP5MUgaYW8T"
      },
      "execution_count": null,
      "outputs": []
    },
    {
      "cell_type": "code",
      "source": [
        "ft_tr_img = feats_img[tr_ids]\n",
        "ft_vl_img = feats_img[vl_ids]\n",
        "ft_te_img = feats_img[te_ids]"
      ],
      "metadata": {
        "id": "M_t0RDKfYYeH"
      },
      "execution_count": null,
      "outputs": []
    },
    {
      "cell_type": "code",
      "source": [
        "te_data = MultiDataset2(ft_te_img, ft_te_txt, lab_test, normalize)\n",
        "tr_data = MultiDataset2(ft_tr_img, ft_tr_txt, lab_train, normalize)\n",
        "vl_data = MultiDataset2(ft_vl_img, ft_vl_txt, lab_val, normalize)\n",
        "\n",
        "tr_loader = DataLoader(dataset=tr_data, batch_size=batch_size, num_workers=2,\n",
        "                        shuffle=True)\n",
        "vl_loader = DataLoader(dataset=vl_data, batch_size=16, num_workers=2)\n",
        "te_loader = DataLoader(dataset=te_data, batch_size=16, num_workers=2)"
      ],
      "metadata": {
        "id": "zy87oj6cYZx9"
      },
      "execution_count": null,
      "outputs": []
    },
    {
      "cell_type": "code",
      "source": [
        "criterion = nn.CrossEntropyLoss().to(device)\n",
        "\n",
        "model_ft = MultiMLP_2Mod(vdim, tdim)"
      ],
      "metadata": {
        "id": "N4l53zr3Yipt"
      },
      "execution_count": null,
      "outputs": []
    },
    {
      "cell_type": "code",
      "source": [
        "model_ft.to(device)\n",
        "print(model_ft)\n",
        "\n",
        "optimizer_ft = optim.Adam(model_ft.parameters(), init_lr)\n",
        "scheduler = optim.lr_scheduler.ReduceLROnPlateau(optimizer_ft, mode='min', patience=5,verbose=True, factor=0.1)"
      ],
      "metadata": {
        "id": "knvPAzT-YkRS"
      },
      "execution_count": null,
      "outputs": []
    },
    {
      "cell_type": "code",
      "source": [
        "model_ft, best_epoch = train(model_ft, optimizer_ft, scheduler, num_epochs=epochs)"
      ],
      "metadata": {
        "id": "YiWiUSVmYmKc"
      },
      "execution_count": null,
      "outputs": []
    },
    {
      "cell_type": "code",
      "source": [
        "torch.save(model_ft.state_dict(), 'MMClip+Roberta.pt')"
      ],
      "metadata": {
        "id": "IWri5J2VYsjQ"
      },
      "execution_count": null,
      "outputs": []
    },
    {
      "cell_type": "code",
      "source": [
        "te_loss, te_acc, te_f1, all_preds, = evaluate(model_ft, te_loader)\n",
        "print('Best Epoch: %d, Test Acc: %.4f, %.4f, %.4f'%(best_epoch, np.round(te_loss,4), np.round(te_acc,4), np.round(te_f1,4)))"
      ],
      "metadata": {
        "id": "Q8rYPCMrZAHX"
      },
      "execution_count": null,
      "outputs": []
    },
    {
      "cell_type": "code",
      "source": [],
      "metadata": {
        "id": "hsNehzACgF8D"
      },
      "execution_count": null,
      "outputs": []
    }
  ]
}